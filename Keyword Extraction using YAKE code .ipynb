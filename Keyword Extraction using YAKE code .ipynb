{
 "cells": [
  {
   "cell_type": "code",
   "execution_count": 1,
   "metadata": {},
   "outputs": [
    {
     "name": "stderr",
     "output_type": "stream",
     "text": [
      "C:\\Users\\srava\\anaconda3\\envs\\tensorf\\lib\\site-packages\\tqdm\\auto.py:22: TqdmWarning: IProgress not found. Please update jupyter and ipywidgets. See https://ipywidgets.readthedocs.io/en/stable/user_install.html\n",
      "  from .autonotebook import tqdm as notebook_tqdm\n"
     ]
    }
   ],
   "source": [
    "import pandas as pd\n",
    "from keybert import KeyBERT\n",
    "from nltk.corpus import stopwords\n",
    "from nltk.tokenize import sent_tokenize, word_tokenize\n",
    "from nltk.stem import PorterStemmer,LancasterStemmer\n",
    "import nltk\n",
    "from nltk.stem import WordNetLemmatizer\n",
    "from sklearn.feature_extraction.text import CountVectorizer\n",
    "from sentence_transformers import SentenceTransformer\n",
    "from sklearn.metrics.pairwise import cosine_similarity\n",
    "import numpy as np\n",
    "import itertools\n",
    "import yake"
   ]
  },
  {
   "cell_type": "markdown",
   "metadata": {},
   "source": [
    "Name: Krishnamohan Pingali,\n",
    "id: 501130910"
   ]
  },
  {
   "cell_type": "code",
   "execution_count": 2,
   "metadata": {},
   "outputs": [],
   "source": [
    "all_files= open('Dataset_Papers.txt')\n",
    "papers = all_files.read().splitlines()\n",
    "all_files.close()"
   ]
  },
  {
   "cell_type": "code",
   "execution_count": 3,
   "metadata": {},
   "outputs": [],
   "source": [
    "Topics = {'Blockchain in AI': [], 'Blockchain in Business': [],'Blockchain in Healthcare': [],\n",
    "          'Blockchain in IoT': [], 'Blockchain in Smart Contracts': []}"
   ]
  },
  {
   "cell_type": "code",
   "execution_count": 4,
   "metadata": {},
   "outputs": [],
   "source": [
    "count = 0\n",
    "for eachP in papers:\n",
    "    if eachP == \"\":\n",
    "        count += 1\n",
    "    elif count == 0:\n",
    "        Topics[\"Blockchain in AI\"].append(eachP)\n",
    "    elif count == 1:\n",
    "        Topics[\"Blockchain in Business\"].append(eachP)\n",
    "    elif count == 2:\n",
    "        Topics[\"Blockchain in Healthcare\"].append(eachP)\n",
    "    elif count == 3:\n",
    "        Topics[\"Blockchain in IoT\"].append(eachP)\n",
    "    elif count == 4:\n",
    "        Topics[\"Blockchain in Smart Contracts\"].append(eachP)"
   ]
  },
  {
   "cell_type": "code",
   "execution_count": 5,
   "metadata": {},
   "outputs": [],
   "source": [
    "all_keywords = {'Keywords for AI': {}, 'Keywords for Business': {},'Keywords for Healthcare': {},\n",
    "          'Keywords for IoT': {}, 'Keywords for Smart Contracts': {}}"
   ]
  },
  {
   "cell_type": "code",
   "execution_count": 6,
   "metadata": {},
   "outputs": [],
   "source": [
    "def yake_extract_kw(Topics,category):\n",
    "    for i in Topics:\n",
    "        res_paper = i\n",
    "    \n",
    "        file = open(res_paper,encoding='utf-8')\n",
    "        data = file.read()\n",
    "        file.close()\n",
    "        \n",
    "        data_tokens = word_tokenize(data)\n",
    "        data_without_sw = [word for word in data_tokens if not word in stopwords.words()]\n",
    "        \n",
    "        data_final = ' '.join([str(n) for n in data_without_sw])\n",
    "        \n",
    "        kw_extractor = yake.KeywordExtractor(top=10, n = 3)\n",
    "        keywords = kw_extractor.extract_keywords(data_final)\n",
    "        \n",
    "        kw=[]\n",
    "        for i in keywords:\n",
    "            cnt_j = 0\n",
    "            for j in i:\n",
    "                if ((cnt_j % 2) == 0):\n",
    "                    kw.append(j)\n",
    "                cnt_j += 1\n",
    "            \n",
    "        if (category == \"AI\"):\n",
    "            all_keywords['Keywords for AI'][res_paper] = kw\n",
    "        elif (category == \"Business\"):\n",
    "            all_keywords['Keywords for Business'][res_paper] = kw\n",
    "        elif (category == \"Healthcare\"):\n",
    "            all_keywords['Keywords for Healthcare'][res_paper] = kw\n",
    "        elif (category == \"IoT\"):\n",
    "            all_keywords['Keywords for IoT'][res_paper] = kw\n",
    "        elif (category == \"Smart Contracts\"):\n",
    "            all_keywords['Keywords for Smart Contracts'][res_paper] = kw"
   ]
  },
  {
   "cell_type": "code",
   "execution_count": 7,
   "metadata": {},
   "outputs": [],
   "source": [
    "yake_extract_kw(Topics[\"Blockchain in AI\"],\"AI\")\n",
    "yake_extract_kw(Topics[\"Blockchain in Business\"],\"Business\")\n",
    "yake_extract_kw(Topics[\"Blockchain in Healthcare\"],\"Healthcare\")\n",
    "yake_extract_kw(Topics[\"Blockchain in IoT\"],\"IoT\")\n",
    "yake_extract_kw(Topics[\"Blockchain in Smart Contracts\"],\"Smart Contracts\")"
   ]
  },
  {
   "cell_type": "code",
   "execution_count": 8,
   "metadata": {},
   "outputs": [],
   "source": [
    "porter=PorterStemmer()\n",
    "lancaster=LancasterStemmer()\n",
    "\n",
    "def stemSentence(sentence):\n",
    "    token_words=word_tokenize(sentence)\n",
    "    token_words\n",
    "    stem_sentence=[]\n",
    "    for word in token_words:\n",
    "        stem_sentence.append(porter.stem(word))\n",
    "        #stem_sentence.append(lancaster.stem(word))\n",
    "        stem_sentence.append(\" \")\n",
    "    return \"\".join(stem_sentence)"
   ]
  },
  {
   "cell_type": "code",
   "execution_count": 9,
   "metadata": {},
   "outputs": [],
   "source": [
    "main_keywords = {'Keywords for AI': {}, 'Keywords for Business': {},'Keywords for Healthcare': {},\n",
    "          'Keywords for IoT': {}, 'Keywords for Smart Contracts': {}}"
   ]
  },
  {
   "cell_type": "code",
   "execution_count": 10,
   "metadata": {},
   "outputs": [],
   "source": [
    "def Stemmed(words):\n",
    "    w = []\n",
    "    for i in words:\n",
    "        for j in i:\n",
    "            indiv_words = j.split()\n",
    "            w.append(indiv_words)\n",
    "\n",
    "    w2 = []\n",
    "    for j in w:\n",
    "        for k in j:\n",
    "            w2.append(k)\n",
    "\n",
    "    stemWords = []\n",
    "    for i in w2:\n",
    "        kw = stemSentence(i)\n",
    "        stemWords.append(kw)\n",
    "        \n",
    "    return(set(stemWords))\n",
    "\n",
    "main_keywords['Keywords for AI'] = Stemmed(all_keywords['Keywords for AI'].values())\n",
    "main_keywords['Keywords for Business'] = Stemmed(all_keywords['Keywords for Business'].values())\n",
    "main_keywords['Keywords for Healthcare'] = Stemmed(all_keywords['Keywords for Healthcare'].values())\n",
    "main_keywords['Keywords for IoT'] = Stemmed(all_keywords['Keywords for IoT'].values())\n",
    "main_keywords['Keywords for Smart Contracts'] = Stemmed(all_keywords['Keywords for Smart Contracts'].values())"
   ]
  },
  {
   "cell_type": "code",
   "execution_count": 24,
   "metadata": {},
   "outputs": [],
   "source": [
    "all_files = open('Dataset_test.txt')\n",
    "test_data = all_files.read().splitlines()\n",
    "all_files.close()"
   ]
  },
  {
   "cell_type": "code",
   "execution_count": 25,
   "metadata": {},
   "outputs": [],
   "source": [
    "Test_topics = {\"Blockchain in AI\": [],\"Blockchain in Business\": [],\"Blockchain in Healthcare\": [],\n",
    "              \"Blockchain in IoT\": [],\"Blockchain in Smart Contracts\": []}"
   ]
  },
  {
   "cell_type": "code",
   "execution_count": 26,
   "metadata": {},
   "outputs": [],
   "source": [
    "count = 0\n",
    "for eachP in test_data:\n",
    "    if eachP == \"\":\n",
    "        count += 1\n",
    "    elif count == 0:\n",
    "        Test_topics[\"Blockchain in AI\"].append(eachP)\n",
    "    elif count == 1:\n",
    "        Test_topics[\"Blockchain in Business\"].append(eachP)\n",
    "    elif count == 2:\n",
    "        Test_topics[\"Blockchain in Healthcare\"].append(eachP)\n",
    "    elif count == 3:\n",
    "        Test_topics[\"Blockchain in IoT\"].append(eachP)\n",
    "    elif count == 4:\n",
    "        Test_topics[\"Blockchain in Smart Contracts\"].append(eachP)"
   ]
  },
  {
   "cell_type": "code",
   "execution_count": 27,
   "metadata": {},
   "outputs": [],
   "source": [
    "test_all_keywords = {'Keywords for AI': {}, 'Keywords for Business': {},'Keywords for Healthcare': {},\n",
    "          'Keywords for IoT': {}, 'Keywords for Smart Contracts': {}}"
   ]
  },
  {
   "cell_type": "code",
   "execution_count": 28,
   "metadata": {},
   "outputs": [],
   "source": [
    "def test_yake_extract_kw(Test_topics,category):\n",
    "    for i in Test_topics:\n",
    "        res_paper = i\n",
    "    \n",
    "        file = open(res_paper,encoding='utf-8')\n",
    "        data = file.read()\n",
    "        file.close()\n",
    "        \n",
    "        data_tokens = word_tokenize(data)\n",
    "        data_without_sw = [word for word in data_tokens if not word in stopwords.words()]\n",
    "        \n",
    "        data_final = ' '.join([str(n) for n in data_without_sw])\n",
    "        \n",
    "        kw_extractor = yake.KeywordExtractor(top=10, n = 3)\n",
    "        keywords = kw_extractor.extract_keywords(data_final)\n",
    "        \n",
    "        kw=[]\n",
    "        for i in keywords:\n",
    "            cnt_j = 0\n",
    "            for j in i:\n",
    "                if ((cnt_j % 2) == 0):\n",
    "                    kw.append(j)\n",
    "                cnt_j += 1\n",
    "        \n",
    "        if (category == \"AI\"):\n",
    "            test_all_keywords['Keywords for AI'][res_paper] = kw\n",
    "        elif (category == \"Business\"):\n",
    "            test_all_keywords['Keywords for Business'][res_paper] = kw\n",
    "        elif (category == \"Healthcare\"):\n",
    "            test_all_keywords['Keywords for Healthcare'][res_paper] = kw\n",
    "        elif (category == \"IoT\"):\n",
    "            test_all_keywords['Keywords for IoT'][res_paper] = kw\n",
    "        elif (category == \"Smart Contracts\"):\n",
    "            test_all_keywords['Keywords for Smart Contracts'][res_paper] = kw"
   ]
  },
  {
   "cell_type": "code",
   "execution_count": 29,
   "metadata": {},
   "outputs": [],
   "source": [
    "test_yake_extract_kw(Test_topics[\"Blockchain in AI\"],\"AI\")\n",
    "test_yake_extract_kw(Test_topics[\"Blockchain in Business\"],\"Business\")\n",
    "test_yake_extract_kw(Test_topics[\"Blockchain in Healthcare\"],\"Healthcare\")\n",
    "test_yake_extract_kw(Test_topics[\"Blockchain in IoT\"],\"IoT\")\n",
    "test_yake_extract_kw(Test_topics[\"Blockchain in Smart Contracts\"],\"Smart Contracts\")"
   ]
  },
  {
   "cell_type": "code",
   "execution_count": 30,
   "metadata": {},
   "outputs": [],
   "source": [
    "test_main_keywords = {\"Keywords for AI\": {}, 'Keywords for Business': {}, 'Keywords for Healthcare': {}, \n",
    "                      'Keywords for IoT': {}, 'Keywords for Smart Contracts': {}}"
   ]
  },
  {
   "cell_type": "code",
   "execution_count": 32,
   "metadata": {},
   "outputs": [],
   "source": [
    "def testStemmed(words):\n",
    "    w = []\n",
    "    for i in words:\n",
    "        for j in i:\n",
    "            indiv_words = j.split()\n",
    "            w.append(indiv_words)\n",
    "\n",
    "    w2 = []\n",
    "    for j in w:\n",
    "        for k in j:\n",
    "            w2.append(k)\n",
    "\n",
    "    stemWords = []\n",
    "    for i in w2:\n",
    "        kw = stemSentence(i)\n",
    "        stemWords.append(kw)\n",
    "        \n",
    "    return(stemWords)"
   ]
  },
  {
   "cell_type": "code",
   "execution_count": 33,
   "metadata": {},
   "outputs": [],
   "source": [
    "def st_kw(hc_keywords):\n",
    "    wq = []\n",
    "    for i in hc_keywords:\n",
    "        j = i.split()\n",
    "        for k in j:\n",
    "            wq.append(k)\n",
    "\n",
    "    stWords = []\n",
    "    for i in wq:\n",
    "        kw = stemSentence(i)\n",
    "        stWords.append(kw)\n",
    "    \n",
    "    return stWords"
   ]
  },
  {
   "cell_type": "code",
   "execution_count": 34,
   "metadata": {},
   "outputs": [
    {
     "data": {
      "text/plain": [
       "{'Blockchain MachineLN.txt': ['Byzantine data holders',\n",
       "  'Virginia Commonwealth University',\n",
       "  'Western Reserve University',\n",
       "  'data holders',\n",
       "  'Byzantine computing nodes',\n",
       "  'local gradients',\n",
       "  'Byzantine data',\n",
       "  'Data',\n",
       "  'Machine Learning',\n",
       "  'computing nodes'],\n",
       " 'Edge AI Blockchain 5 IEEE.txt': ['data',\n",
       "  'Ethereum Blockchain',\n",
       "  'Blockchain',\n",
       "  'Edge',\n",
       "  'Edge Computing',\n",
       "  'node Ethereum Blockchain',\n",
       "  'raw data',\n",
       "  'ethereum blockchain network',\n",
       "  'Blockchain Edge computing',\n",
       "  'LAYER EDGE LAYER']}"
      ]
     },
     "execution_count": 34,
     "metadata": {},
     "output_type": "execute_result"
    }
   ],
   "source": [
    "test_all_keywords['Keywords for AI']"
   ]
  },
  {
   "cell_type": "code",
   "execution_count": 35,
   "metadata": {},
   "outputs": [],
   "source": [
    "stemList = {'Keywords for AI':{},'Keywords for Business':{},'Keywords for Healthcare':{},\n",
    "            'Keywords for IoT':{}, 'Keywords for Smart Contracts':{}}\n",
    "\n",
    "for j in test_all_keywords:\n",
    "    for k in test_all_keywords[j]:\n",
    "        val = test_all_keywords[j][k]\n",
    "        stemList[j][k] = st_kw(val)"
   ]
  },
  {
   "cell_type": "code",
   "execution_count": 36,
   "metadata": {},
   "outputs": [],
   "source": [
    "avg_pre_AI = []\n",
    "avg_pre_Business = []\n",
    "avg_pre_Healthcare = []\n",
    "avg_pre_IoT = []\n",
    "avg_pre_Smart_Contracts  = []\n",
    "\n",
    "for g in stemList:\n",
    "    for i in stemList[g]:\n",
    "        \n",
    "        test_kw = stemList[g][i]\n",
    "        count_i = 0\n",
    "        precision = []\n",
    "        cnt_kw = 0\n",
    "        doc_pre = []\n",
    "\n",
    "        for i in test_kw:\n",
    "            count_i += 1\n",
    "            if i in main_keywords[g]:\n",
    "                cnt_kw += 1\n",
    "                pre = cnt_kw/count_i\n",
    "                precision.append(pre)\n",
    "    \n",
    "        if (len(precision) != 0):\n",
    "            avg_pre = sum(precision)/len(precision)\n",
    "            if g == 'Keywords for AI':\n",
    "                avg_pre_AI.append(avg_pre)\n",
    "            elif g == 'Keywords for Business':\n",
    "                avg_pre_Business.append(avg_pre)\n",
    "            elif g == 'Keywords for Healthcare':\n",
    "                avg_pre_Healthcare.append(avg_pre)\n",
    "            elif g == 'Keywords for IoT':\n",
    "                avg_pre_IoT.append(avg_pre)\n",
    "            elif g == 'Keywords for Smart Contracts':\n",
    "                avg_pre_Smart_Contracts.append(avg_pre)\n",
    "        \n",
    "        if (len(precision) == 0):\n",
    "            if g == 'Keywords for AI':\n",
    "                avg_pre_AI.append(0)\n",
    "            elif g == 'Keywords for Business':\n",
    "                avg_pre_Business.append(0)\n",
    "            elif g == 'Keywords for Healthcare':\n",
    "                avg_pre_Healthcare.append(0)\n",
    "            elif g == 'Keywords for IoT':\n",
    "                avg_pre_IoT.append(0)\n",
    "            elif g == 'Keywords for Smart Contracts':\n",
    "                avg_pre_Smart_Contracts.append(0)\n",
    "        "
   ]
  },
  {
   "cell_type": "code",
   "execution_count": 37,
   "metadata": {},
   "outputs": [
    {
     "name": "stdout",
     "output_type": "stream",
     "text": [
      "Average precision for AI category:  [0.36139828738512947, 0.6102564102564103]\n",
      "MAP_AI:  0.4858273488207699\n"
     ]
    }
   ],
   "source": [
    "print('Average precision for AI category: ',avg_pre_AI)\n",
    "MAP_AI = sum(avg_pre_AI)/len(avg_pre_AI)\n",
    "print('MAP_AI: ',MAP_AI)"
   ]
  },
  {
   "cell_type": "code",
   "execution_count": 38,
   "metadata": {},
   "outputs": [
    {
     "name": "stdout",
     "output_type": "stream",
     "text": [
      "Average precision for Business category:  [0, 0.5025974025974026]\n",
      "MAP_Business:  0.2512987012987013\n"
     ]
    }
   ],
   "source": [
    "print('Average precision for Business category: ',avg_pre_Business)\n",
    "MAP_Business = sum(avg_pre_Business)/len(avg_pre_Business)\n",
    "print('MAP_Business: ',MAP_Business)"
   ]
  },
  {
   "cell_type": "code",
   "execution_count": 39,
   "metadata": {},
   "outputs": [
    {
     "name": "stdout",
     "output_type": "stream",
     "text": [
      "Average precision for Healthcare category:  [0.1878736109828547, 0.24861305361305358, 0.3314916078073973]\n",
      "MAP_Healthcare:  0.2559927574677685\n"
     ]
    }
   ],
   "source": [
    "print('Average precision for Healthcare category: ',avg_pre_Healthcare)\n",
    "MAP_Healthcare = sum(avg_pre_Healthcare)/len(avg_pre_Healthcare)\n",
    "print('MAP_Healthcare: ',MAP_Healthcare)"
   ]
  },
  {
   "cell_type": "code",
   "execution_count": 40,
   "metadata": {},
   "outputs": [
    {
     "name": "stdout",
     "output_type": "stream",
     "text": [
      "Average precision for IoT category:  [1.0, 0.43730410414393783, 0.23954286454286455]\n",
      "MAP_IoT:  0.5589489895622675\n"
     ]
    }
   ],
   "source": [
    "print('Average precision for IoT category: ',avg_pre_IoT)\n",
    "MAP_IoT = sum(avg_pre_IoT)/len(avg_pre_IoT)\n",
    "print('MAP_IoT: ',MAP_IoT)"
   ]
  },
  {
   "cell_type": "code",
   "execution_count": 41,
   "metadata": {},
   "outputs": [
    {
     "name": "stdout",
     "output_type": "stream",
     "text": [
      "Average precision for Smart Contracts category:  [0.07261904761904761, 0.2588602055748182, 0.7931925968768074]\n",
      "MAP_Smart_Contracts:  0.3748906166902244\n"
     ]
    }
   ],
   "source": [
    "print('Average precision for Smart Contracts category: ',avg_pre_Smart_Contracts)\n",
    "MAP_Smart_Contracts = sum(avg_pre_Smart_Contracts)/len(avg_pre_Smart_Contracts)\n",
    "print('MAP_Smart_Contracts: ',MAP_Smart_Contracts)"
   ]
  },
  {
   "cell_type": "code",
   "execution_count": null,
   "metadata": {},
   "outputs": [],
   "source": []
  }
 ],
 "metadata": {
  "kernelspec": {
   "display_name": "Python 3",
   "language": "python",
   "name": "python3"
  },
  "language_info": {
   "codemirror_mode": {
    "name": "ipython",
    "version": 3
   },
   "file_extension": ".py",
   "mimetype": "text/x-python",
   "name": "python",
   "nbconvert_exporter": "python",
   "pygments_lexer": "ipython3",
   "version": "3.8.3"
  }
 },
 "nbformat": 4,
 "nbformat_minor": 5
}
