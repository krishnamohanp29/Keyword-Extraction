{
 "cells": [
  {
   "cell_type": "code",
   "execution_count": 3,
   "metadata": {},
   "outputs": [],
   "source": [
    "import pandas as pd\n",
    "from keybert import KeyBERT\n",
    "from nltk.corpus import stopwords\n",
    "from nltk.tokenize import sent_tokenize, word_tokenize\n",
    "from nltk.stem import PorterStemmer,LancasterStemmer\n",
    "import nltk\n",
    "from nltk.stem import WordNetLemmatizer\n",
    "from sklearn.feature_extraction.text import CountVectorizer\n",
    "from sentence_transformers import SentenceTransformer\n",
    "from sklearn.metrics.pairwise import cosine_similarity\n",
    "import numpy as np\n",
    "import itertools"
   ]
  },
  {
   "cell_type": "markdown",
   "metadata": {},
   "source": [
    "Name: Krishnamohan Pingali,\n",
    "id: 501130910"
   ]
  },
  {
   "cell_type": "code",
   "execution_count": 4,
   "metadata": {},
   "outputs": [],
   "source": [
    "all_files= open('Dataset_Papers.txt')\n",
    "papers = all_files.read().splitlines()\n",
    "all_files.close()"
   ]
  },
  {
   "cell_type": "code",
   "execution_count": 5,
   "metadata": {},
   "outputs": [],
   "source": [
    "Topics = {'Blockchain in AI': [], 'Blockchain in Business': [],'Blockchain in Healthcare': [],\n",
    "          'Blockchain in IoT': [], 'Blockchain in Smart Contracts': []}"
   ]
  },
  {
   "cell_type": "code",
   "execution_count": 6,
   "metadata": {},
   "outputs": [],
   "source": [
    "count = 0\n",
    "for eachP in papers:\n",
    "    if eachP == \"\":\n",
    "        count += 1\n",
    "    elif count == 0:\n",
    "        Topics[\"Blockchain in AI\"].append(eachP)\n",
    "    elif count == 1:\n",
    "        Topics[\"Blockchain in Business\"].append(eachP)\n",
    "    elif count == 2:\n",
    "        Topics[\"Blockchain in Healthcare\"].append(eachP)\n",
    "    elif count == 3:\n",
    "        Topics[\"Blockchain in IoT\"].append(eachP)\n",
    "    elif count == 4:\n",
    "        Topics[\"Blockchain in Smart Contracts\"].append(eachP)"
   ]
  },
  {
   "cell_type": "code",
   "execution_count": 7,
   "metadata": {},
   "outputs": [
    {
     "data": {
      "text/plain": [
       "['_ blockchain-for-business_IBM.txt',\n",
       " 'A Survey of Blockchain Security Issues and Challenges.txt',\n",
       " 'Blockchain Decentralized Governance.txt']"
      ]
     },
     "execution_count": 7,
     "metadata": {},
     "output_type": "execute_result"
    }
   ],
   "source": [
    "Topics[\"Blockchain in Business\"]"
   ]
  },
  {
   "cell_type": "code",
   "execution_count": 8,
   "metadata": {},
   "outputs": [],
   "source": [
    "all_keywords = {'Keywords for AI': {}, 'Keywords for Business': {},'Keywords for Healthcare': {},\n",
    "          'Keywords for IoT': {}, 'Keywords for Smart Contracts': {}}"
   ]
  },
  {
   "cell_type": "code",
   "execution_count": 9,
   "metadata": {},
   "outputs": [],
   "source": [
    "def keybert_extract_kw(Topics,category):\n",
    "    for i in Topics:\n",
    "        res_paper = i\n",
    "    \n",
    "        file = open(res_paper,encoding='utf-8')\n",
    "        data = file.read()\n",
    "        file.close()\n",
    "    \n",
    "        text_tokens = word_tokenize(data)\n",
    "\n",
    "        tokens_without_sw = [word for word in text_tokens if not word in stopwords.words()]\n",
    "        data = (\" \").join(tokens_without_sw)\n",
    "        \n",
    "        kw_model = KeyBERT()\n",
    "        keywords = kw_model.extract_keywords(data, keyphrase_ngram_range=(2, 2), stop_words='english',\n",
    "                                            top_n = 10)\n",
    "        \n",
    "        kw = []\n",
    "        for j in keywords:\n",
    "            kw.append(j[0])\n",
    "            \n",
    "        if (category == \"AI\"):\n",
    "            all_keywords['Keywords for AI'][res_paper] = kw\n",
    "        elif (category == \"Business\"):\n",
    "            all_keywords['Keywords for Business'][res_paper] = kw\n",
    "        elif (category == \"Healthcare\"):\n",
    "            all_keywords['Keywords for Healthcare'][res_paper] = kw\n",
    "        elif (category == \"IoT\"):\n",
    "            all_keywords['Keywords for IoT'][res_paper] = kw\n",
    "        elif (category == \"Smart Contracts\"):\n",
    "            all_keywords['Keywords for Smart Contracts'][res_paper] = kw"
   ]
  },
  {
   "cell_type": "code",
   "execution_count": 10,
   "metadata": {},
   "outputs": [],
   "source": [
    "keybert_extract_kw(Topics[\"Blockchain in AI\"],\"AI\")\n",
    "keybert_extract_kw(Topics[\"Blockchain in Business\"],\"Business\")\n",
    "keybert_extract_kw(Topics[\"Blockchain in Healthcare\"],\"Healthcare\")\n",
    "keybert_extract_kw(Topics[\"Blockchain in IoT\"],\"IoT\")\n",
    "keybert_extract_kw(Topics[\"Blockchain in Smart Contracts\"],\"Smart Contracts\")"
   ]
  },
  {
   "cell_type": "code",
   "execution_count": 11,
   "metadata": {},
   "outputs": [],
   "source": [
    "porter=PorterStemmer()\n",
    "lancaster=LancasterStemmer()\n",
    "\n",
    "def stemSentence(sentence):\n",
    "    token_words=word_tokenize(sentence)\n",
    "    token_words\n",
    "    stem_sentence=[]\n",
    "    for word in token_words:\n",
    "        stem_sentence.append(porter.stem(word))\n",
    "        #stem_sentence.append(lancaster.stem(word))\n",
    "        stem_sentence.append(\" \")\n",
    "    return \"\".join(stem_sentence)"
   ]
  },
  {
   "cell_type": "code",
   "execution_count": 12,
   "metadata": {},
   "outputs": [],
   "source": [
    "main_keywords = {'Keywords for AI': {}, 'Keywords for Business': {},'Keywords for Healthcare': {},\n",
    "          'Keywords for IoT': {}, 'Keywords for Smart Contracts': {}}"
   ]
  },
  {
   "cell_type": "code",
   "execution_count": 13,
   "metadata": {},
   "outputs": [],
   "source": [
    "def Stemmed(words):\n",
    "    w = []\n",
    "    for i in words:\n",
    "        for j in i:\n",
    "            indiv_words = j.split()\n",
    "            w.append(indiv_words)\n",
    "\n",
    "    w2 = []\n",
    "    for j in w:\n",
    "        for k in j:\n",
    "            w2.append(k)\n",
    "\n",
    "    stemWords = []\n",
    "    for i in w2:\n",
    "        kw = stemSentence(i)\n",
    "        stemWords.append(kw)\n",
    "        \n",
    "    return(set(stemWords))\n",
    "\n",
    "main_keywords['Keywords for AI'] = Stemmed(all_keywords['Keywords for AI'].values())\n",
    "main_keywords['Keywords for Business'] = Stemmed(all_keywords['Keywords for Business'].values())\n",
    "main_keywords['Keywords for Healthcare'] = Stemmed(all_keywords['Keywords for Healthcare'].values())\n",
    "main_keywords['Keywords for IoT'] = Stemmed(all_keywords['Keywords for IoT'].values())\n",
    "main_keywords['Keywords for Smart Contracts'] = Stemmed(all_keywords['Keywords for Smart Contracts'].values())"
   ]
  },
  {
   "cell_type": "code",
   "execution_count": 14,
   "metadata": {},
   "outputs": [],
   "source": [
    "def st_kw(hc_keywords):\n",
    "    wq = []\n",
    "    for i in hc_keywords:\n",
    "        j = i.split()\n",
    "        for k in j:\n",
    "            wq.append(k)\n",
    "\n",
    "    stWords = []\n",
    "    for i in wq:\n",
    "        kw = stemSentence(i)\n",
    "        stWords.append(kw)\n",
    "    \n",
    "    return stWords"
   ]
  },
  {
   "cell_type": "code",
   "execution_count": null,
   "metadata": {},
   "outputs": [],
   "source": []
  },
  {
   "cell_type": "code",
   "execution_count": 15,
   "metadata": {},
   "outputs": [],
   "source": [
    "all_files = open('Dataset_test.txt')\n",
    "test_data = all_files.read().splitlines()\n",
    "all_files.close()"
   ]
  },
  {
   "cell_type": "code",
   "execution_count": 16,
   "metadata": {},
   "outputs": [],
   "source": [
    "Test_topics = {\"Blockchain in AI\": [],\"Blockchain in Business\": [],\"Blockchain in Healthcare\": [],\n",
    "              \"Blockchain in IoT\": [],\"Blockchain in Smart Contracts\": []}"
   ]
  },
  {
   "cell_type": "code",
   "execution_count": 17,
   "metadata": {},
   "outputs": [],
   "source": [
    "count = 0\n",
    "for eachP in test_data:\n",
    "    if eachP == \"\":\n",
    "        count += 1\n",
    "    elif count == 0:\n",
    "        Test_topics[\"Blockchain in AI\"].append(eachP)\n",
    "    elif count == 1:\n",
    "        Test_topics[\"Blockchain in Business\"].append(eachP)\n",
    "    elif count == 2:\n",
    "        Test_topics[\"Blockchain in Healthcare\"].append(eachP)\n",
    "    elif count == 3:\n",
    "        Test_topics[\"Blockchain in IoT\"].append(eachP)\n",
    "    elif count == 4:\n",
    "        Test_topics[\"Blockchain in Smart Contracts\"].append(eachP)"
   ]
  },
  {
   "cell_type": "code",
   "execution_count": 18,
   "metadata": {},
   "outputs": [],
   "source": [
    "test_all_keywords = {'Keywords for AI': {}, 'Keywords for Business': {},'Keywords for Healthcare': {},\n",
    "          'Keywords for IoT': {}, 'Keywords for Smart Contracts': {}}"
   ]
  },
  {
   "cell_type": "code",
   "execution_count": 19,
   "metadata": {},
   "outputs": [],
   "source": [
    "def test_keybert_extract_kw(Test_topics,category):\n",
    "    for i in Test_topics:\n",
    "        res_paper = i\n",
    "    \n",
    "        file = open(res_paper,encoding='utf-8')\n",
    "        data = file.read()\n",
    "        file.close()\n",
    "        \n",
    "        text_tokens = word_tokenize(data)\n",
    "\n",
    "        tokens_without_sw = [word for word in text_tokens if not word in stopwords.words()]\n",
    "        data = (\" \").join(tokens_without_sw)\n",
    "        \n",
    "        kw_model = KeyBERT()\n",
    "        keywords = kw_model.extract_keywords(data, keyphrase_ngram_range=(2, 2), stop_words='english',\n",
    "                                            top_n = 10)\n",
    "        \n",
    "        kw = []\n",
    "        for j in keywords:\n",
    "            kw.append(j[0])\n",
    "            \n",
    "        if (category == \"AI\"):\n",
    "            test_all_keywords['Keywords for AI'][res_paper] = kw\n",
    "        elif (category == \"Business\"):\n",
    "            test_all_keywords['Keywords for Business'][res_paper] = kw\n",
    "        elif (category == \"Healthcare\"):\n",
    "            test_all_keywords['Keywords for Healthcare'][res_paper] = kw\n",
    "        elif (category == \"IoT\"):\n",
    "            test_all_keywords['Keywords for IoT'][res_paper] = kw\n",
    "        elif (category == \"Smart Contracts\"):\n",
    "            test_all_keywords['Keywords for Smart Contracts'][res_paper] = kw\n",
    "        "
   ]
  },
  {
   "cell_type": "code",
   "execution_count": 20,
   "metadata": {},
   "outputs": [],
   "source": [
    "test_keybert_extract_kw(Test_topics[\"Blockchain in AI\"],\"AI\")\n",
    "test_keybert_extract_kw(Test_topics[\"Blockchain in Business\"],\"Business\")\n",
    "test_keybert_extract_kw(Test_topics[\"Blockchain in Healthcare\"],\"Healthcare\")\n",
    "test_keybert_extract_kw(Test_topics[\"Blockchain in IoT\"],\"IoT\")\n",
    "test_keybert_extract_kw(Test_topics[\"Blockchain in Smart Contracts\"],\"Smart Contracts\")"
   ]
  },
  {
   "cell_type": "code",
   "execution_count": 21,
   "metadata": {},
   "outputs": [],
   "source": [
    "test_main_keywords = {\"Keywords for AI\": {}, 'Keywords for Business': {}, 'Keywords for Healthcare': {}, \n",
    "                      'Keywords for IoT': {}, 'Keywords for Smart Contracts': {}}"
   ]
  },
  {
   "cell_type": "code",
   "execution_count": 22,
   "metadata": {},
   "outputs": [],
   "source": [
    "def testStemmed(words):\n",
    "    w = []\n",
    "    for i in words:\n",
    "        for j in i:\n",
    "            indiv_words = j.split()\n",
    "            w.append(indiv_words)\n",
    "\n",
    "    w2 = []\n",
    "    for j in w:\n",
    "        for k in j:\n",
    "            w2.append(k)\n",
    "\n",
    "    stemWords = []\n",
    "    for i in w2:\n",
    "        kw = stemSentence(i)\n",
    "        stemWords.append(kw)\n",
    "        \n",
    "    return(stemWords)"
   ]
  },
  {
   "cell_type": "code",
   "execution_count": 23,
   "metadata": {},
   "outputs": [],
   "source": [
    "stemList = {'Keywords for AI':{},'Keywords for Business':{},'Keywords for Healthcare':{},\n",
    "            'Keywords for IoT':{}, 'Keywords for Smart Contracts':{}}\n",
    "\n",
    "for j in test_all_keywords:\n",
    "    for k in test_all_keywords[j]:\n",
    "        val = test_all_keywords[j][k]\n",
    "        stemList[j][k] = st_kw(val)"
   ]
  },
  {
   "cell_type": "code",
   "execution_count": 24,
   "metadata": {},
   "outputs": [],
   "source": [
    "avg_pre_AI = []\n",
    "avg_pre_Business = []\n",
    "avg_pre_Healthcare = []\n",
    "avg_pre_IoT = []\n",
    "avg_pre_Smart_Contracts  = []\n",
    "\n",
    "for g in stemList:\n",
    "    for i in stemList[g]:\n",
    "        \n",
    "        test_kw = stemList[g][i]\n",
    "        count_i = 0\n",
    "        precision = []\n",
    "        cnt_kw = 0\n",
    "        doc_pre = []\n",
    "\n",
    "        for i in test_kw:\n",
    "            count_i += 1\n",
    "            if i in main_keywords[g]:\n",
    "                cnt_kw += 1\n",
    "                pre = cnt_kw/count_i\n",
    "                precision.append(pre)\n",
    "    \n",
    "        if (len(precision) != 0):\n",
    "            avg_pre = sum(precision)/len(precision)\n",
    "            if g == 'Keywords for AI':\n",
    "                avg_pre_AI.append(avg_pre)\n",
    "            elif g == 'Keywords for Business':\n",
    "                avg_pre_Business.append(avg_pre)\n",
    "            elif g == 'Keywords for Healthcare':\n",
    "                avg_pre_Healthcare.append(avg_pre)\n",
    "            elif g == 'Keywords for IoT':\n",
    "                avg_pre_IoT.append(avg_pre)\n",
    "            elif g == 'Keywords for Smart Contracts':\n",
    "                avg_pre_Smart_Contracts.append(avg_pre)\n",
    "        \n",
    "        if (len(precision) == 0):\n",
    "            if g == 'Keywords for AI':\n",
    "                avg_pre_AI.append(0)\n",
    "            elif g == 'Keywords for Business':\n",
    "                avg_pre_Business.append(0)\n",
    "            elif g == 'Keywords for Healthcare':\n",
    "                avg_pre_Healthcare.append(0)\n",
    "            elif g == 'Keywords for IoT':\n",
    "                avg_pre_IoT.append(0)\n",
    "            elif g == 'Keywords for Smart Contracts':\n",
    "                avg_pre_Smart_Contracts.append(0)\n",
    "        "
   ]
  },
  {
   "cell_type": "code",
   "execution_count": 25,
   "metadata": {},
   "outputs": [
    {
     "name": "stdout",
     "output_type": "stream",
     "text": [
      "Average precision for AI category:  [0.2341269841269841, 0.3954783827406561]\n"
     ]
    }
   ],
   "source": [
    "print('Average precision for AI category: ',avg_pre_AI)"
   ]
  },
  {
   "cell_type": "code",
   "execution_count": 26,
   "metadata": {},
   "outputs": [
    {
     "name": "stdout",
     "output_type": "stream",
     "text": [
      "MAP_AI:  0.3148026834338201\n"
     ]
    }
   ],
   "source": [
    "MAP_AI = sum(avg_pre_AI)/len(avg_pre_AI)\n",
    "print('MAP_AI: ',MAP_AI)"
   ]
  },
  {
   "cell_type": "code",
   "execution_count": 27,
   "metadata": {},
   "outputs": [
    {
     "name": "stdout",
     "output_type": "stream",
     "text": [
      "Average precision for Business category:  [0.32222222222222224, 0.3016394716394716]\n"
     ]
    }
   ],
   "source": [
    "print('Average precision for Business category: ',avg_pre_Business)"
   ]
  },
  {
   "cell_type": "code",
   "execution_count": 28,
   "metadata": {},
   "outputs": [
    {
     "name": "stdout",
     "output_type": "stream",
     "text": [
      "MAP_Business:  0.31193084693084694\n"
     ]
    }
   ],
   "source": [
    "MAP_Business = sum(avg_pre_Business)/len(avg_pre_Business)\n",
    "print('MAP_Business: ',MAP_Business)"
   ]
  },
  {
   "cell_type": "code",
   "execution_count": 29,
   "metadata": {},
   "outputs": [
    {
     "name": "stdout",
     "output_type": "stream",
     "text": [
      "Average precision for Healthcare category:  [0.9649750055967805, 0.8883463873014958, 0.46031746031746024]\n"
     ]
    }
   ],
   "source": [
    "print('Average precision for Healthcare category: ',avg_pre_Healthcare)"
   ]
  },
  {
   "cell_type": "code",
   "execution_count": 30,
   "metadata": {},
   "outputs": [
    {
     "name": "stdout",
     "output_type": "stream",
     "text": [
      "MAP_Healthcare:  0.7712129510719121\n"
     ]
    }
   ],
   "source": [
    "MAP_Healthcare = sum(avg_pre_Healthcare)/len(avg_pre_Healthcare)\n",
    "print('MAP_Healthcare: ',MAP_Healthcare)"
   ]
  },
  {
   "cell_type": "code",
   "execution_count": 31,
   "metadata": {},
   "outputs": [
    {
     "name": "stdout",
     "output_type": "stream",
     "text": [
      "Average precision for IoT category:  [1.0, 0.7573306761464657, 0.2571428571428571]\n"
     ]
    }
   ],
   "source": [
    "print('Average precision for IoT category: ',avg_pre_IoT)"
   ]
  },
  {
   "cell_type": "code",
   "execution_count": 32,
   "metadata": {},
   "outputs": [
    {
     "name": "stdout",
     "output_type": "stream",
     "text": [
      "MAP_IoT:  0.6714911777631075\n"
     ]
    }
   ],
   "source": [
    "MAP_IoT = sum(avg_pre_IoT)/len(avg_pre_IoT)\n",
    "print('MAP_IoT: ',MAP_IoT)"
   ]
  },
  {
   "cell_type": "code",
   "execution_count": 33,
   "metadata": {},
   "outputs": [
    {
     "name": "stdout",
     "output_type": "stream",
     "text": [
      "Average precision for Smart Contracts category:  [0.7704522609391734, 0.2293198906356801, 0.40221088435374147]\n"
     ]
    }
   ],
   "source": [
    "print('Average precision for Smart Contracts category: ',avg_pre_Smart_Contracts)"
   ]
  },
  {
   "cell_type": "code",
   "execution_count": 34,
   "metadata": {},
   "outputs": [
    {
     "name": "stdout",
     "output_type": "stream",
     "text": [
      "MAP_Smart_Contracts:  0.467327678642865\n"
     ]
    }
   ],
   "source": [
    "MAP_Smart_Contracts = sum(avg_pre_Smart_Contracts)/len(avg_pre_Smart_Contracts)\n",
    "print('MAP_Smart_Contracts: ',MAP_Smart_Contracts)"
   ]
  },
  {
   "cell_type": "code",
   "execution_count": null,
   "metadata": {},
   "outputs": [],
   "source": []
  }
 ],
 "metadata": {
  "kernelspec": {
   "display_name": "Python 3",
   "language": "python",
   "name": "python3"
  },
  "language_info": {
   "codemirror_mode": {
    "name": "ipython",
    "version": 3
   },
   "file_extension": ".py",
   "mimetype": "text/x-python",
   "name": "python",
   "nbconvert_exporter": "python",
   "pygments_lexer": "ipython3",
   "version": "3.8.3"
  }
 },
 "nbformat": 4,
 "nbformat_minor": 5
}
