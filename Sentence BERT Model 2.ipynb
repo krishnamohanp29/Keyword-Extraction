{
 "cells": [
  {
   "cell_type": "code",
   "execution_count": 1,
   "metadata": {
    "scrolled": true
   },
   "outputs": [
    {
     "name": "stderr",
     "output_type": "stream",
     "text": [
      "C:\\Users\\srava\\anaconda3\\envs\\tensorf\\lib\\site-packages\\tqdm\\auto.py:22: TqdmWarning: IProgress not found. Please update jupyter and ipywidgets. See https://ipywidgets.readthedocs.io/en/stable/user_install.html\n",
      "  from .autonotebook import tqdm as notebook_tqdm\n"
     ]
    }
   ],
   "source": [
    "import pandas as pd\n",
    "from keybert import KeyBERT\n",
    "from nltk.corpus import stopwords\n",
    "from nltk.tokenize import sent_tokenize, word_tokenize\n",
    "from nltk.stem import PorterStemmer,LancasterStemmer\n",
    "import nltk\n",
    "from nltk.stem import WordNetLemmatizer\n",
    "from sklearn.feature_extraction.text import CountVectorizer\n",
    "from sentence_transformers import SentenceTransformer\n",
    "from sklearn.metrics.pairwise import cosine_similarity\n",
    "import numpy as np\n",
    "import itertools"
   ]
  },
  {
   "cell_type": "markdown",
   "metadata": {},
   "source": [
    "Name: Krishnamohan Pingali,\n",
    "id: 501130910"
   ]
  },
  {
   "cell_type": "code",
   "execution_count": 2,
   "metadata": {},
   "outputs": [],
   "source": [
    "all_files= open('Dataset_Papers.txt')\n",
    "papers = all_files.read().splitlines()\n",
    "all_files.close()"
   ]
  },
  {
   "cell_type": "code",
   "execution_count": 3,
   "metadata": {},
   "outputs": [],
   "source": [
    "Topics = {'Blockchain in AI': [], 'Blockchain in Business': [],'Blockchain in Healthcare': [],\n",
    "          'Blockchain in IoT': [], 'Blockchain in Smart Contracts': []}"
   ]
  },
  {
   "cell_type": "code",
   "execution_count": 4,
   "metadata": {},
   "outputs": [],
   "source": [
    "count = 0\n",
    "for eachP in papers:\n",
    "    if eachP == \"\":\n",
    "        count += 1\n",
    "    elif count == 0:\n",
    "        Topics[\"Blockchain in AI\"].append(eachP)\n",
    "    elif count == 1:\n",
    "        Topics[\"Blockchain in Business\"].append(eachP)\n",
    "    elif count == 2:\n",
    "        Topics[\"Blockchain in Healthcare\"].append(eachP)\n",
    "    elif count == 3:\n",
    "        Topics[\"Blockchain in IoT\"].append(eachP)\n",
    "    elif count == 4:\n",
    "        Topics[\"Blockchain in Smart Contracts\"].append(eachP)"
   ]
  },
  {
   "cell_type": "code",
   "execution_count": 5,
   "metadata": {},
   "outputs": [],
   "source": [
    "all_keywords = {'Keywords for AI': {}, 'Keywords for Business': {},'Keywords for Healthcare': {},\n",
    "          'Keywords for IoT': {}, 'Keywords for Smart Contracts': {}}"
   ]
  },
  {
   "cell_type": "code",
   "execution_count": 6,
   "metadata": {},
   "outputs": [],
   "source": [
    "def xtract_kw(Topics,category):\n",
    "    for i in Topics:\n",
    "        res_paper = i\n",
    "    \n",
    "        file = open(res_paper,encoding='utf-8')\n",
    "        data = file.read()\n",
    "        file.close()\n",
    "    \n",
    "        count = CountVectorizer(ngram_range=(2, 2), stop_words=\"english\").fit([data])\n",
    "        candidates = count.get_feature_names()\n",
    "    \n",
    "        model = SentenceTransformer('sentence-transformers/all-mpnet-base-v2')\n",
    "        doc_embedding = model.encode([data])\n",
    "        candidate_embeddings = model.encode(candidates)\n",
    "    \n",
    "        top_n = 15\n",
    "        distances = cosine_similarity(doc_embedding, candidate_embeddings)\n",
    "        keywords = [candidates[index] for index in distances.argsort()[0][-top_n:]]\n",
    "        \n",
    "        if (category == \"AI\"):\n",
    "            all_keywords['Keywords for AI'][res_paper] = keywords\n",
    "        elif (category == \"Business\"):\n",
    "            all_keywords['Keywords for Business'][res_paper] = keywords\n",
    "        elif (category == \"Healthcare\"):\n",
    "            all_keywords['Keywords for Healthcare'][res_paper] = keywords\n",
    "        elif (category == \"IoT\"):\n",
    "            all_keywords['Keywords for IoT'][res_paper] = keywords\n",
    "        elif (category == \"Smart Contracts\"):\n",
    "            all_keywords['Keywords for Smart Contracts'][res_paper] = keywords"
   ]
  },
  {
   "cell_type": "code",
   "execution_count": 7,
   "metadata": {},
   "outputs": [],
   "source": [
    "xtract_kw(Topics[\"Blockchain in AI\"],\"AI\")\n",
    "xtract_kw(Topics[\"Blockchain in Business\"],\"Business\")\n",
    "xtract_kw(Topics[\"Blockchain in Healthcare\"],\"Healthcare\")\n",
    "xtract_kw(Topics[\"Blockchain in IoT\"],\"IoT\")\n",
    "xtract_kw(Topics[\"Blockchain in Smart Contracts\"],\"Smart Contracts\")"
   ]
  },
  {
   "cell_type": "code",
   "execution_count": 8,
   "metadata": {},
   "outputs": [],
   "source": [
    "porter=PorterStemmer()\n",
    "lancaster=LancasterStemmer()\n",
    "\n",
    "def stemSentence(sentence):\n",
    "    token_words=word_tokenize(sentence)\n",
    "    token_words\n",
    "    stem_sentence=[]\n",
    "    for word in token_words:\n",
    "        stem_sentence.append(porter.stem(word))\n",
    "        #stem_sentence.append(lancaster.stem(word))\n",
    "        stem_sentence.append(\" \")\n",
    "    return \"\".join(stem_sentence)"
   ]
  },
  {
   "cell_type": "code",
   "execution_count": 27,
   "metadata": {},
   "outputs": [],
   "source": [
    "main_keywords = {'Keywords for AI': {}, 'Keywords for Business': {},'Keywords for Healthcare': {},\n",
    "          'Keywords for IoT': {}, 'Keywords for Smart Contracts': {}}"
   ]
  },
  {
   "cell_type": "code",
   "execution_count": 28,
   "metadata": {},
   "outputs": [],
   "source": [
    "def Stemmed(words):\n",
    "    w = []\n",
    "    for i in words:\n",
    "        for j in i:\n",
    "            indiv_words = j.split()\n",
    "            w.append(indiv_words)\n",
    "\n",
    "    w2 = []\n",
    "    for j in w:\n",
    "        for k in j:\n",
    "            w2.append(k)\n",
    "\n",
    "    stemWords = []\n",
    "    for i in w2:\n",
    "        kw = stemSentence(i)\n",
    "        stemWords.append(kw)\n",
    "        \n",
    "    return(set(stemWords))\n",
    "\n",
    "main_keywords['Keywords for AI'] = Stemmed(all_keywords['Keywords for AI'].values())\n",
    "main_keywords['Keywords for Business'] = Stemmed(all_keywords['Keywords for Business'].values())\n",
    "main_keywords['Keywords for Healthcare'] = Stemmed(all_keywords['Keywords for Healthcare'].values())\n",
    "main_keywords['Keywords for IoT'] = Stemmed(all_keywords['Keywords for IoT'].values())\n",
    "main_keywords['Keywords for Smart Contracts'] = Stemmed(all_keywords['Keywords for Smart Contracts'].values())"
   ]
  },
  {
   "cell_type": "code",
   "execution_count": 29,
   "metadata": {
    "scrolled": true
   },
   "outputs": [],
   "source": [
    "def st_kw(hc_keywords):\n",
    "    wq = []\n",
    "    for i in hc_keywords:\n",
    "        j = i.split()\n",
    "        for k in j:\n",
    "            wq.append(k)\n",
    "\n",
    "    stWords = []\n",
    "    for i in wq:\n",
    "        kw = stemSentence(i)\n",
    "        stWords.append(kw)\n",
    "    \n",
    "    return stWords\n",
    "\n",
    "#test_kw = st_kw(hc_keywords)\n",
    "#test_kw"
   ]
  },
  {
   "cell_type": "code",
   "execution_count": null,
   "metadata": {},
   "outputs": [],
   "source": []
  },
  {
   "cell_type": "code",
   "execution_count": 30,
   "metadata": {},
   "outputs": [],
   "source": [
    "all_files = open('Dataset_test.txt')\n",
    "test_data = all_files.read().splitlines()\n",
    "all_files.close()"
   ]
  },
  {
   "cell_type": "code",
   "execution_count": 31,
   "metadata": {},
   "outputs": [],
   "source": [
    "Test_topics = {\"Blockchain in AI\": [],\"Blockchain in Business\": [],\"Blockchain in Healthcare\": [],\n",
    "              \"Blockchain in IoT\": [],\"Blockchain in Smart Contracts\": []}"
   ]
  },
  {
   "cell_type": "code",
   "execution_count": 32,
   "metadata": {},
   "outputs": [],
   "source": [
    "count = 0\n",
    "for eachP in test_data:\n",
    "    if eachP == \"\":\n",
    "        count += 1\n",
    "    elif count == 0:\n",
    "        Test_topics[\"Blockchain in AI\"].append(eachP)\n",
    "    elif count == 1:\n",
    "        Test_topics[\"Blockchain in Business\"].append(eachP)\n",
    "    elif count == 2:\n",
    "        Test_topics[\"Blockchain in Healthcare\"].append(eachP)\n",
    "    elif count == 3:\n",
    "        Test_topics[\"Blockchain in IoT\"].append(eachP)\n",
    "    elif count == 4:\n",
    "        Test_topics[\"Blockchain in Smart Contracts\"].append(eachP)"
   ]
  },
  {
   "cell_type": "code",
   "execution_count": 33,
   "metadata": {},
   "outputs": [],
   "source": [
    "test_all_keywords = {'Keywords for AI': {}, 'Keywords for Business': {},'Keywords for Healthcare': {},\n",
    "          'Keywords for IoT': {}, 'Keywords for Smart Contracts': {}}"
   ]
  },
  {
   "cell_type": "code",
   "execution_count": 34,
   "metadata": {},
   "outputs": [],
   "source": [
    "def test_xtract_kw(Test_topics,category):\n",
    "    for i in Test_topics:\n",
    "        res_paper = i\n",
    "    \n",
    "        file = open(res_paper,encoding='utf-8')\n",
    "        data = file.read()\n",
    "        file.close()\n",
    "    \n",
    "        count = CountVectorizer(ngram_range=(2, 2), stop_words=\"english\").fit([data])\n",
    "        candidates = count.get_feature_names()\n",
    "    \n",
    "        model = SentenceTransformer('xlm-r-distilroberta-base-paraphrase-v1')\n",
    "        doc_embedding = model.encode([data])\n",
    "        candidate_embeddings = model.encode(candidates)\n",
    "    \n",
    "        top_n = 15\n",
    "        distances = cosine_similarity(doc_embedding, candidate_embeddings)\n",
    "        keywords = [candidates[index] for index in distances.argsort()[0][-top_n:]]\n",
    "        \n",
    "        if (category == \"AI\"):\n",
    "            test_all_keywords['Keywords for AI'][res_paper] = keywords\n",
    "        elif (category == \"Business\"):\n",
    "            test_all_keywords['Keywords for Business'][res_paper] = keywords\n",
    "        elif (category == \"Healthcare\"):\n",
    "            test_all_keywords['Keywords for Healthcare'][res_paper] = keywords\n",
    "        elif (category == \"IoT\"):\n",
    "            test_all_keywords['Keywords for IoT'][res_paper] = keywords\n",
    "        elif (category == \"Smart Contracts\"):\n",
    "            test_all_keywords['Keywords for Smart Contracts'][res_paper] = keywords"
   ]
  },
  {
   "cell_type": "code",
   "execution_count": 35,
   "metadata": {},
   "outputs": [],
   "source": [
    "test_xtract_kw(Test_topics[\"Blockchain in AI\"],\"AI\")\n",
    "test_xtract_kw(Test_topics[\"Blockchain in Business\"],\"Business\")\n",
    "test_xtract_kw(Test_topics[\"Blockchain in Healthcare\"],\"Healthcare\")\n",
    "test_xtract_kw(Test_topics[\"Blockchain in IoT\"],\"IoT\")\n",
    "test_xtract_kw(Test_topics[\"Blockchain in Smart Contracts\"],\"Smart Contracts\")"
   ]
  },
  {
   "cell_type": "code",
   "execution_count": 36,
   "metadata": {},
   "outputs": [],
   "source": [
    "test_main_keywords = {\"Keywords for AI\": {}, 'Keywords for Business': {}, 'Keywords for Healthcare': {}, \n",
    "                      'Keywords for IoT': {}, 'Keywords for Smart Contracts': {}}"
   ]
  },
  {
   "cell_type": "code",
   "execution_count": 37,
   "metadata": {},
   "outputs": [],
   "source": [
    "def testStemmed(words):\n",
    "    w = []\n",
    "    for i in words:\n",
    "        for j in i:\n",
    "            indiv_words = j.split()\n",
    "            w.append(indiv_words)\n",
    "\n",
    "    w2 = []\n",
    "    for j in w:\n",
    "        for k in j:\n",
    "            w2.append(k)\n",
    "\n",
    "    stemWords = []\n",
    "    for i in w2:\n",
    "        kw = stemSentence(i)\n",
    "        stemWords.append(kw)\n",
    "        \n",
    "    return(stemWords)"
   ]
  },
  {
   "cell_type": "code",
   "execution_count": 38,
   "metadata": {},
   "outputs": [],
   "source": [
    "stemList = {'Keywords for AI':{},'Keywords for Business':{},'Keywords for Healthcare':{},\n",
    "            'Keywords for IoT':{}, 'Keywords for Smart Contracts':{}}\n",
    "\n",
    "for j in test_all_keywords:\n",
    "    for k in test_all_keywords[j]:\n",
    "        val = test_all_keywords[j][k]\n",
    "        stemList[j][k] = st_kw(val)"
   ]
  },
  {
   "cell_type": "code",
   "execution_count": 39,
   "metadata": {},
   "outputs": [],
   "source": [
    "avg_pre_AI = []\n",
    "avg_pre_Business = []\n",
    "avg_pre_Healthcare = []\n",
    "avg_pre_IoT = []\n",
    "avg_pre_Smart_Contracts  = []\n",
    "\n",
    "for g in stemList:\n",
    "    for i in stemList[g]:\n",
    "        \n",
    "        test_kw = stemList[g][i]\n",
    "        count_i = 0\n",
    "        precision = []\n",
    "        cnt_kw = 0\n",
    "        doc_pre = []\n",
    "\n",
    "        for i in test_kw:\n",
    "            count_i += 1\n",
    "            if i in main_keywords[g]:\n",
    "                cnt_kw += 1\n",
    "                pre = cnt_kw/count_i\n",
    "                precision.append(pre)\n",
    "    \n",
    "        if (len(precision) != 0):\n",
    "            avg_pre = sum(precision)/len(precision)\n",
    "            if g == 'Keywords for AI':\n",
    "                avg_pre_AI.append(avg_pre)\n",
    "            elif g == 'Keywords for Business':\n",
    "                avg_pre_Business.append(avg_pre)\n",
    "            elif g == 'Keywords for Healthcare':\n",
    "                avg_pre_Healthcare.append(avg_pre)\n",
    "            elif g == 'Keywords for IoT':\n",
    "                avg_pre_IoT.append(avg_pre)\n",
    "            elif g == 'Keywords for Smart Contracts':\n",
    "                avg_pre_Smart_Contracts.append(avg_pre)\n",
    "        \n",
    "        if (len(precision) == 0):\n",
    "            if g == 'Keywords for AI':\n",
    "                avg_pre_AI.append(0)\n",
    "            elif g == 'Keywords for Business':\n",
    "                avg_pre_Business.append(0)\n",
    "            elif g == 'Keywords for Healthcare':\n",
    "                avg_pre_Healthcare.append(0)\n",
    "            elif g == 'Keywords for IoT':\n",
    "                avg_pre_IoT.append(0)\n",
    "            elif g == 'Keywords for Smart Contracts':\n",
    "                avg_pre_Smart_Contracts.append(0)\n",
    "        "
   ]
  },
  {
   "cell_type": "code",
   "execution_count": 50,
   "metadata": {},
   "outputs": [
    {
     "name": "stdout",
     "output_type": "stream",
     "text": [
      "Average precision for AI category:  [0.3027583527583527, 0.3806366808178403]\n"
     ]
    }
   ],
   "source": [
    "print('Average precision for AI category: ',avg_pre_AI)"
   ]
  },
  {
   "cell_type": "code",
   "execution_count": 51,
   "metadata": {},
   "outputs": [
    {
     "name": "stdout",
     "output_type": "stream",
     "text": [
      "MAP_AI:  0.3416975167880965\n"
     ]
    }
   ],
   "source": [
    "MAP_AI = sum(avg_pre_AI)/len(avg_pre_AI)\n",
    "print('MAP_AI: ',MAP_AI)"
   ]
  },
  {
   "cell_type": "code",
   "execution_count": 52,
   "metadata": {},
   "outputs": [
    {
     "name": "stdout",
     "output_type": "stream",
     "text": [
      "Average precision for Business category:  [0.2964021028701336, 0.2784372352793405]\n"
     ]
    }
   ],
   "source": [
    "print('Average precision for Business category: ',avg_pre_Business)"
   ]
  },
  {
   "cell_type": "code",
   "execution_count": 53,
   "metadata": {
    "scrolled": true
   },
   "outputs": [
    {
     "name": "stdout",
     "output_type": "stream",
     "text": [
      "MAP_Business:  0.28741966907473704\n"
     ]
    }
   ],
   "source": [
    "MAP_Business = sum(avg_pre_Business)/len(avg_pre_Business)\n",
    "print('MAP_Business: ',MAP_Business)"
   ]
  },
  {
   "cell_type": "code",
   "execution_count": 54,
   "metadata": {},
   "outputs": [
    {
     "name": "stdout",
     "output_type": "stream",
     "text": [
      "Average precision for Healthcare category:  [0.6640470679103148, 0.6102418651761018, 0.07692307692307693]\n"
     ]
    }
   ],
   "source": [
    "print('Average precision for Healthcare category: ',avg_pre_Healthcare)"
   ]
  },
  {
   "cell_type": "code",
   "execution_count": 55,
   "metadata": {
    "scrolled": true
   },
   "outputs": [
    {
     "name": "stdout",
     "output_type": "stream",
     "text": [
      "MAP_Healthcare:  0.45040400333649777\n"
     ]
    }
   ],
   "source": [
    "MAP_Healthcare = sum(avg_pre_Healthcare)/len(avg_pre_Healthcare)\n",
    "print('MAP_Healthcare: ',MAP_Healthcare)"
   ]
  },
  {
   "cell_type": "code",
   "execution_count": 56,
   "metadata": {},
   "outputs": [
    {
     "name": "stdout",
     "output_type": "stream",
     "text": [
      "Average precision for IoT category:  [0.3633155200621468, 0.5704852800643876, 0.4272970085470085]\n"
     ]
    }
   ],
   "source": [
    "print('Average precision for IoT category: ',avg_pre_IoT)"
   ]
  },
  {
   "cell_type": "code",
   "execution_count": 57,
   "metadata": {},
   "outputs": [
    {
     "name": "stdout",
     "output_type": "stream",
     "text": [
      "MAP_IoT:  0.4536992695578476\n"
     ]
    }
   ],
   "source": [
    "MAP_IoT = sum(avg_pre_IoT)/len(avg_pre_IoT)\n",
    "print('MAP_IoT: ',MAP_IoT)"
   ]
  },
  {
   "cell_type": "code",
   "execution_count": 58,
   "metadata": {},
   "outputs": [
    {
     "name": "stdout",
     "output_type": "stream",
     "text": [
      "Average precision for Smart Contracts category:  [0.05, 0.6100524475524476, 0.26824016563147]\n"
     ]
    }
   ],
   "source": [
    "print('Average precision for Smart Contracts category: ',avg_pre_Smart_Contracts)"
   ]
  },
  {
   "cell_type": "code",
   "execution_count": 59,
   "metadata": {},
   "outputs": [
    {
     "name": "stdout",
     "output_type": "stream",
     "text": [
      "MAP_Smart_Contracts:  0.3094308710613059\n"
     ]
    }
   ],
   "source": [
    "MAP_Smart_Contracts = sum(avg_pre_Smart_Contracts)/len(avg_pre_Smart_Contracts)\n",
    "print('MAP_Smart_Contracts: ',MAP_Smart_Contracts)"
   ]
  },
  {
   "cell_type": "code",
   "execution_count": null,
   "metadata": {},
   "outputs": [],
   "source": []
  }
 ],
 "metadata": {
  "kernelspec": {
   "display_name": "Python 3",
   "language": "python",
   "name": "python3"
  },
  "language_info": {
   "codemirror_mode": {
    "name": "ipython",
    "version": 3
   },
   "file_extension": ".py",
   "mimetype": "text/x-python",
   "name": "python",
   "nbconvert_exporter": "python",
   "pygments_lexer": "ipython3",
   "version": "3.8.3"
  }
 },
 "nbformat": 4,
 "nbformat_minor": 5
}
